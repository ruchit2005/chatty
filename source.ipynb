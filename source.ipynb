{
 "cells": [
  {
   "cell_type": "code",
   "execution_count": 14,
   "id": "0e8e7365",
   "metadata": {},
   "outputs": [],
   "source": [
    "import spacy\n",
    "import requests\n",
    "import os\n",
    "from dotenv import load_dotenv\n",
    "# Load environment variables from .env file\n",
    "load_dotenv()\n",
    "api_key = os.getenv(\"HUGGINGFACE_API_KEY\")\n",
    "\n",
    "nlp = spacy.load(\"en_core_web_sm\")\n",
    "api_url = \"https://api-inference.huggingface.co/models/google/flan-t5-small\"\n",
    "\n",
    "\n",
    "\n"
   ]
  },
  {
   "cell_type": "code",
   "execution_count": 15,
   "id": "c5d1399b",
   "metadata": {},
   "outputs": [
    {
     "name": "stdout",
     "output_type": "stream",
     "text": [
      "I am a student . \n"
     ]
    }
   ],
   "source": [
    "def pre(text):\n",
    "    doc = nlp(text)\n",
    "    return \"\".join(token.text+\" \" for token in doc )\n",
    "    \n",
    "\n",
    "print(pre(\"I am a student.\"))"
   ]
  },
  {
   "cell_type": "code",
   "execution_count": 16,
   "id": "6636a5ba",
   "metadata": {},
   "outputs": [],
   "source": [
    "def payload(doc):\n",
    "    headers = {\n",
    "    \"Authorization\":f\"Bearer {api_key}\",\n",
    "    }\n",
    "    payload = {\n",
    "        \n",
    "        \"inputs\":doc,\n",
    "        \n",
    "    }\n",
    "\n",
    "    response = requests.post(api_url, headers=headers, json=payload)\n",
    "    if response.status_code == 200:\n",
    "        return response.json()\n",
    "    else:\n",
    "        print(f\"Error: {response.status_code}\")\n",
    "        print(f\"Error: {response.text}\")\n",
    "        return None\n",
    "    "
   ]
  },
  {
   "cell_type": "code",
   "execution_count": 17,
   "id": "92dd982b",
   "metadata": {},
   "outputs": [],
   "source": [
    "def main():\n",
    "    text = input(\"What happened macha?\")\n",
    "    ll = pre(text)\n",
    "    print(payload(ll))\n",
    "\n",
    "    "
   ]
  },
  {
   "cell_type": "code",
   "execution_count": 18,
   "id": "ed3937c9",
   "metadata": {},
   "outputs": [
    {
     "name": "stdout",
     "output_type": "stream",
     "text": [
      "Error: 404\n",
      "Error: Not Found\n",
      "None\n"
     ]
    }
   ],
   "source": [
    "main()"
   ]
  },
  {
   "cell_type": "code",
   "execution_count": null,
   "id": "10414b0c",
   "metadata": {},
   "outputs": [],
   "source": []
  }
 ],
 "metadata": {
  "kernelspec": {
   "display_name": "chatty",
   "language": "python",
   "name": "python3"
  },
  "language_info": {
   "codemirror_mode": {
    "name": "ipython",
    "version": 3
   },
   "file_extension": ".py",
   "mimetype": "text/x-python",
   "name": "python",
   "nbconvert_exporter": "python",
   "pygments_lexer": "ipython3",
   "version": "3.10.16"
  }
 },
 "nbformat": 4,
 "nbformat_minor": 5
}
