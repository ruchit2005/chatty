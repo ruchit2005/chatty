{
 "cells": [
  {
   "cell_type": "code",
   "execution_count": 37,
   "id": "0e8e7365",
   "metadata": {},
   "outputs": [],
   "source": [
    "import spacy\n",
    "import requests\n",
    "import os\n",
    "\n",
    "from dotenv import load_dotenv\n",
    "# Load environment variables from .env file\n",
    "load_dotenv()\n",
    "api_key = os.getenv(\"HUGGINGFACE_API_KEY\")\n",
    "\n",
    "nlp = spacy.load(\"en_core_web_sm\")\n",
    "api_url = \"https://router.huggingface.co/hf-inference/models/mistralai/Mistral-7B-Instruct-v0.3/v1/chat/completions\"\n",
    "\n",
    "\n",
    "\n"
   ]
  },
  {
   "cell_type": "code",
   "execution_count": 38,
   "id": "c5d1399b",
   "metadata": {},
   "outputs": [
    {
     "name": "stdout",
     "output_type": "stream",
     "text": [
      "I am a student . \n"
     ]
    }
   ],
   "source": [
    "def pre(text):\n",
    "    doc = nlp(text)\n",
    "    return \"\".join(token.text+\" \" for token in doc )\n",
    "    \n",
    "\n",
    "print(pre(\"I am a student.\"))"
   ]
  },
  {
   "cell_type": "code",
   "execution_count": 42,
   "id": "6636a5ba",
   "metadata": {},
   "outputs": [],
   "source": [
    "def payload(doc):\n",
    "    headers = {\n",
    "    \"Authorization\":f\"Bearer {api_key}\",\n",
    "    }\n",
    "    payload = {\n",
    "    \"messages\": [\n",
    "               \n",
    "        {\n",
    "            \"role\": \"user\",\n",
    "            \"content\": doc\n",
    "        }\n",
    "    ],\n",
    "    \"model\": \"mistralai/mistral-7b-instruct\",\n",
    "    }\n",
    "\n",
    "    response = requests.post(api_url, headers=headers, json=payload)\n",
    "    if response.status_code == 200:\n",
    "        return response.json()[\"choices\"][0][\"message\"]\n",
    "         \n",
    "    else:\n",
    "        print(f\"Error: {response.status_code}\")\n",
    "        print(f\"Error: {response.text}\")\n",
    "        return None\n",
    "    "
   ]
  },
  {
   "cell_type": "code",
   "execution_count": 43,
   "id": "92dd982b",
   "metadata": {},
   "outputs": [],
   "source": [
    "def main():\n",
    "    text = input(\"What happened macha?\")\n",
    "    ll = pre(text)\n",
    "    print(payload(ll))\n",
    "\n",
    "    "
   ]
  },
  {
   "cell_type": "code",
   "execution_count": 45,
   "id": "ed3937c9",
   "metadata": {},
   "outputs": [
    {
     "name": "stdout",
     "output_type": "stream",
     "text": [
      "{'role': 'assistant', 'content': \"I'm just a computer program and don't have the ability to feel emotions or sensations. I'm designed to provide responses based on a mixture of trained algorithms, heuristics, and machine learning. I don't have feelings, but I'm here to help you with any questions you might have! How can I assist you today?\"}\n"
     ]
    }
   ],
   "source": [
    "main()"
   ]
  },
  {
   "cell_type": "code",
   "execution_count": null,
   "id": "3418fc2e",
   "metadata": {},
   "outputs": [],
   "source": []
  },
  {
   "cell_type": "code",
   "execution_count": null,
   "id": "10414b0c",
   "metadata": {},
   "outputs": [],
   "source": []
  }
 ],
 "metadata": {
  "kernelspec": {
   "display_name": "chatty",
   "language": "python",
   "name": "python3"
  },
  "language_info": {
   "codemirror_mode": {
    "name": "ipython",
    "version": 3
   },
   "file_extension": ".py",
   "mimetype": "text/x-python",
   "name": "python",
   "nbconvert_exporter": "python",
   "pygments_lexer": "ipython3",
   "version": "3.10.16"
  }
 },
 "nbformat": 4,
 "nbformat_minor": 5
}
