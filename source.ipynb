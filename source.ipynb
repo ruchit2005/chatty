{
  "cells": [
    {
      "cell_type": "code",
      "execution_count": null,
      "id": "0e8e7365",
      "metadata": {
        "id": "0e8e7365"
      },
      "outputs": [],
      "source": [
        "import spacy\n",
        "import requests\n",
        "import os\n",
        "\n",
        "from dotenv import load_dotenv\n",
        "# Load environment variables from .env file\n",
        "load_dotenv()\n",
        "api_key = os.getenv(\"HUGGINGFACE_API_KEY\")\n",
        "\n",
        "nlp = spacy.load(\"en_core_web_sm\")\n",
        "api_url = \"https://router.huggingface.co/hf-inference/models/mistralai/Mistral-7B-Instruct-v0.3/v1/chat/completions\"\n",
        "\n",
        "\n",
        "\n"
      ]
    },
    {
      "cell_type": "code",
      "execution_count": null,
      "id": "c5d1399b",
      "metadata": {
        "id": "c5d1399b",
        "outputId": "32f9caed-5323-4d43-8444-fb90d0503ff1"
      },
      "outputs": [
        {
          "name": "stdout",
          "output_type": "stream",
          "text": [
            "I am a student . \n"
          ]
        }
      ],
      "source": [
        "def pre(text):\n",
        "    doc = nlp(text)\n",
        "    return \"\".join(token.text+\" \" for token in doc )\n",
        "\n",
        "\n",
        "print(pre(\"I am a student.\"))"
      ]
    },
    {
      "cell_type": "code",
      "execution_count": null,
      "id": "6636a5ba",
      "metadata": {
        "id": "6636a5ba"
      },
      "outputs": [],
      "source": [
        "def payload(doc):\n",
        "    headers = {\n",
        "    \"Authorization\":f\"Bearer {api_key}\",\n",
        "    }\n",
        "    payload = {\n",
        "    \"messages\": [\n",
        "\n",
        "        {\n",
        "            \"role\": \"user\",\n",
        "            \"content\": doc\n",
        "        }\n",
        "    ],\n",
        "    \"model\": \"mistralai/Mistral-7B-Instruct-v0.1\",\n",
        "    }\n",
        "\n",
        "    response = requests.post(api_url, headers=headers, json=payload)\n",
        "    if response.status_code == 200:\n",
        "        return response.json()[\"choices\"][0][\"message\"]\n",
        "\n",
        "    else:\n",
        "        print(f\"Error: {re4sponse.status_code}\")\n",
        "        print(f\"Error: {response.text}\")\n",
        "        return None\n",
        ""
      ]
    },
    {
      "cell_type": "code",
      "execution_count": null,
      "id": "92dd982b",
      "metadata": {
        "id": "92dd982b"
      },
      "outputs": [],
      "source": [
        "def main():\n",
        "\n",
        "    text = input(\"Your turn:\")\n",
        "    while text != \"exit\":\n",
        "        text = input(\"Your turn:\")\n",
        "        if text == \"exit\":\n",
        "            break\n",
        "        else:\n",
        "            ll = pre(text)\n",
        "            print(payload(ll))\n",
        "\n",
        ""
      ]
    },
    {
      "cell_type": "code",
      "execution_count": null,
      "id": "ed3937c9",
      "metadata": {
        "id": "ed3937c9",
        "outputId": "c2558fd4-6987-4c2f-d801-59dd85e59714"
      },
      "outputs": [
        {
          "name": "stdout",
          "output_type": "stream",
          "text": [
            "{'role': 'assistant', 'content': 'The term \"nigga\" is a controversial racial epithet that originated in the African American community as a derogatory term, but has, over time, been reclaimed by some black people to varying degrees as an informal term of camaraderie or familiarity, often among close friends or within black communities. However, it\\'s important to note that its use can still be offensive and provocative outside of these contexts, and it\\'s considered highly disrespectful and discriminatory when used by people who are not black. It\\'s always a good idea to have open discussions about cultural nuances and to seek understanding before using words that may be perceived as offensive.'}\n",
            "{'role': 'assistant', 'content': \"Hello! How can I help you today? Is there something specific you would like to know or discuss? I'm here to help answer any questions you might have. If you're just looking to chat, feel free to share something on your mind!\"}\n"
          ]
        }
      ],
      "source": [
        "main()"
      ]
    },
    {
      "cell_type": "code",
      "execution_count": null,
      "id": "3418fc2e",
      "metadata": {
        "id": "3418fc2e"
      },
      "outputs": [],
      "source": []
    },
    {
      "cell_type": "code",
      "execution_count": null,
      "id": "10414b0c",
      "metadata": {
        "id": "10414b0c"
      },
      "outputs": [],
      "source": []
    }
  ],
  "metadata": {
    "kernelspec": {
      "display_name": "chatty",
      "language": "python",
      "name": "python3"
    },
    "language_info": {
      "codemirror_mode": {
        "name": "ipython",
        "version": 3
      },
      "file_extension": ".py",
      "mimetype": "text/x-python",
      "name": "python",
      "nbconvert_exporter": "python",
      "pygments_lexer": "ipython3",
      "version": "3.10.16"
    },
    "colab": {
      "provenance": []
    }
  },
  "nbformat": 4,
  "nbformat_minor": 5
}